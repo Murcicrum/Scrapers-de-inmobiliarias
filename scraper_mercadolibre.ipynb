{
  "nbformat": 4,
  "nbformat_minor": 0,
  "metadata": {
    "colab": {
      "name": "scraper_mercadolibre.ipynb",
      "provenance": [],
      "collapsed_sections": [],
      "authorship_tag": "ABX9TyNZrn11/8s01oUH8vb6sSt3",
      "include_colab_link": true
    },
    "kernelspec": {
      "display_name": "Python 3",
      "name": "python3"
    },
    "language_info": {
      "name": "python"
    }
  },
  "cells": [
    {
      "cell_type": "markdown",
      "metadata": {
        "id": "view-in-github",
        "colab_type": "text"
      },
      "source": [
        "<a href=\"https://colab.research.google.com/github/Murcicrum/Scrapers-de-inmobiliarias/blob/main/scraper_mercadolibre.ipynb\" target=\"_parent\"><img src=\"https://colab.research.google.com/assets/colab-badge.svg\" alt=\"Open In Colab\"/></a>"
      ]
    },
    {
      "cell_type": "code",
      "metadata": {
        "id": "672FKAJe21ny"
      },
      "source": [
        "1  '''\n",
        "EN PROCESO\n",
        "  '''"
      ],
      "execution_count": null,
      "outputs": []
    },
    {
      "cell_type": "markdown",
      "metadata": {
        "id": "2qy_iJjYNvem"
      },
      "source": [
        "Imports"
      ]
    },
    {
      "cell_type": "code",
      "metadata": {
        "id": "WHQYHHZ8Nmn9"
      },
      "source": [
        "import time\n",
        "import requests\n",
        "from bs4 import BeautifulSoup as bs"
      ],
      "execution_count": null,
      "outputs": []
    },
    {
      "cell_type": "markdown",
      "metadata": {
        "id": "HzjVnLzVNw1b"
      },
      "source": [
        "#Levanto publicaciones"
      ]
    },
    {
      "cell_type": "markdown",
      "metadata": {
        "id": "dz_CUtYAQbXC"
      },
      "source": [
        "Defino los urls de las busquedas"
      ]
    },
    {
      "cell_type": "code",
      "metadata": {
        "id": "rWdBxtQYN2ms"
      },
      "source": [
        "url_search_deptos = 'https://inmuebles.mercadolibre.com.ar/departamentos/alquiler/capital-federal/_Desde_'\n",
        "url_search_casas  = 'https://inmuebles.mercadolibre.com.ar/casas/alquiler/capital-federal/_Desde_'\n",
        "url_search_phs    = 'https://inmuebles.mercadolibre.com.ar/ph/alquiler/capital-federal/_Desde_'\n"
      ],
      "execution_count": null,
      "outputs": []
    },
    {
      "cell_type": "markdown",
      "metadata": {
        "id": "f93xEYS24NED"
      },
      "source": [
        "#####Inspección a mano"
      ]
    },
    {
      "cell_type": "code",
      "metadata": {
        "id": "jLvrWN5eEV0r"
      },
      "source": [
        "#from pprint import PrettyPrinter as pp\n",
        "import pprint\n",
        "pp = pprint.PrettyPrinter()"
      ],
      "execution_count": null,
      "outputs": []
    },
    {
      "cell_type": "code",
      "metadata": {
        "colab": {
          "base_uri": "https://localhost:8080/"
        },
        "id": "D4dEGhBDQx9w",
        "outputId": "5eefca0d-8d12-4a67-b4a3-329c1ddc4db0"
      },
      "source": [
        "response = requests.get( url_search_deptos + str(1) , \n",
        "                         headers={'User-Agent':'Mozilla/5.0 (X11; Ubuntu; Linux x86_64; rv:91.0) Gecko/20100101 Firefox/91.0'} )\n",
        "soup = bs(response.content)\n",
        "#def get_links(url_search):\n",
        "print( response.status_code, len(soup.prettify()) )\n",
        "#print('RES_H:', response.headers)\n",
        "print('REQ_H:', response.request.headers)"
      ],
      "execution_count": null,
      "outputs": [
        {
          "output_type": "stream",
          "name": "stdout",
          "text": [
            "200 720967\n",
            "REQ_H: {'User-Agent': 'Mozilla/5.0 (X11; Ubuntu; Linux x86_64; rv:91.0) Gecko/20100101 Firefox/91.0', 'Accept-Encoding': 'gzip, deflate', 'Accept': '*/*', 'Connection': 'keep-alive', 'Cookie': '_d2id=be3e412f-9562-441b-bdc4-c805992369e3-n; _csrf=wEjpFlhgfdCI8r5H-A8pQTgF; cdnx=1'}\n"
          ]
        }
      ]
    },
    {
      "cell_type": "code",
      "metadata": {
        "colab": {
          "base_uri": "https://localhost:8080/"
        },
        "id": "-WH-V4lDG2oK",
        "outputId": "7d7d483e-0a6b-4a8c-d1fe-92efd608fb16"
      },
      "source": [
        "#200 733251\n",
        "{'User-Agent': 'Mozilla/5.0 (X11; Ubuntu; Linux x86_64; rv:91.0) Gecko/20100101 Firefox/91.0', \n",
        " 'Accept-Encoding': 'gzip, deflate', \n",
        " 'Accept': '*/*', \n",
        " 'Connection': 'keep-alive', \n",
        " 'Cookie': '_d2id=b8d0863c-dd6c-4d52-8533-302e35ffa773-n; _csrf=LLrq1rJBJCfGaG_3AGQFJEIO; cdnx=1'}        #esto cambia siempre\n",
        "\n",
        "#200 721493\n",
        "{'User-Agent': 'Mozilla/5.0 (X11; Ubuntu; Linux x86_64; rv:91.0) Gecko/20100101 Firefox/91.0', \n",
        " 'Accept-Encoding': 'gzip, deflate', \n",
        " 'Accept': '*/*', \n",
        " 'Connection': 'keep-alive', \n",
        " 'Cookie': '_d2id=c258bfbf-8996-4bee-b91e-4c9342ae934c-n; _csrf=rzwXss0pgUYTbFofBIUTxZJs; cdnx=1'}\n",
        "\n",
        "#200 721490\n",
        "{'User-Agent': 'Mozilla/5.0 (X11; Ubuntu; Linux x86_64; rv:91.0) Gecko/20100101 Firefox/91.0', \n",
        " 'Accept-Encoding': 'gzip, deflate', \n",
        " 'Accept': '*/*', \n",
        " 'Connection': 'keep-alive', \n",
        " 'Cookie': '_d2id=4fa15557-a82c-4609-a359-09a194585e9c-n; _csrf=nv23EAiCPvliRsTpCFXF8sy0; cdnx=1'}"
      ],
      "execution_count": null,
      "outputs": [
        {
          "output_type": "execute_result",
          "data": {
            "text/plain": [
              "{'Accept': '*/*',\n",
              " 'Accept-Encoding': 'gzip, deflate',\n",
              " 'Connection': 'keep-alive',\n",
              " 'Cookie': '_d2id=4fa15557-a82c-4609-a359-09a194585e9c-n; _csrf=nv23EAiCPvliRsTpCFXF8sy0; cdnx=1',\n",
              " 'User-Agent': 'Mozilla/5.0 (X11; Ubuntu; Linux x86_64; rv:91.0) Gecko/20100101 Firefox/91.0'}"
            ]
          },
          "metadata": {},
          "execution_count": 78
        }
      ]
    },
    {
      "cell_type": "markdown",
      "metadata": {
        "id": "lbdXQoBZhpTN"
      },
      "source": [
        "96-48 723643, 722999, 724161, 724682, 724009 \\\\\n",
        "50-50 738032, 737027, 737091, 740797"
      ]
    },
    {
      "cell_type": "code",
      "metadata": {
        "colab": {
          "base_uri": "https://localhost:8080/"
        },
        "id": "rFustm-6VsS1",
        "outputId": "e014087a-bdd0-4741-c72b-2e87b631277b"
      },
      "source": [
        "#import re\n",
        "tag_deptos = soup.find_all( name='a', attrs={'title':'Departamento en alquiler','class': 'ui-search-link'} )  # No bastaría con '^ui-search-link' ??\n",
        "tag_deptos[:10]"
      ],
      "execution_count": null,
      "outputs": [
        {
          "output_type": "execute_result",
          "data": {
            "text/plain": [
              "[<a class=\"ui-search-link\" href=\"https://departamento.mercadolibre.com.ar/MLA-1103660441-las-heras-y-pueyrredon-3-ambientes-_JM#position=1&amp;search_layout=grid&amp;type=item&amp;tracking_id=9f3a4a04-8d86-4041-99ab-530f58bfd03c\" target=\"_blank\" title=\"Departamento en alquiler\"><div class=\"carousel-container arrow-visible\"><div class=\"slick-initialized slick-slider\"><div class=\"slick-list\" role=\"presentation\"><div class=\"slick-track\"><div class=\"slick-slide slick-active\" data-index=\"0\" style=\"outline:none\" tabindex=\"-1\"><img alt=\"Departamento en alquiler\" class=\"ui-search-result-image__element lazy-loadable\" data-src=\"https://http2.mlstatic.com/D_NQ_NP_796950-MLA47530833550_092021-W.webp\" height=\"378\" src=\"data:image/gif;base64,R0lGODlhAQABAIAAAAAAAP///yH5BAEAAAAALAAAAAABAAEAAAIBRAA7\" width=\"284\"/></div></div></div></div></div></a>,\n",
              " <a class=\"ui-search-result__content ui-search-link\" href=\"https://departamento.mercadolibre.com.ar/MLA-1103660441-las-heras-y-pueyrredon-3-ambientes-_JM#position=1&amp;search_layout=grid&amp;type=item&amp;tracking_id=9f3a4a04-8d86-4041-99ab-530f58bfd03c\" target=\"_blank\" title=\"Departamento en alquiler\"><div class=\"ui-search-result__content-wrapper\"><div class=\"ui-search-item__group ui-search-item__group--price\"><div class=\"ui-search-price ui-search-price--size-medium ui-search-item__group__element\"><div class=\"ui-search-price__second-line\"><span class=\"price-tag ui-search-price__part\"><span class=\"price-tag-text-sr-only\">35000 pesos</span><span aria-hidden=\"true\" class=\"price-tag-amount\"><span class=\"price-tag-symbol\">$</span><span class=\"price-tag-fraction\">35.000</span></span></span></div></div></div><div class=\"ui-search-item__group ui-search-item__group--attributes\"><ul class=\"ui-search-card-attributes ui-search-item__group__element\"><li class=\"ui-search-card-attributes__attribute\">45 m² cubiertos</li><li class=\"ui-search-card-attributes__attribute\">3 ambs.</li></ul></div><div class=\"ui-search-item__group ui-search-item__group--title\"><span class=\"ui-search-item__group__element ui-search-item__subtitle\">Departamento en alquiler</span><h2 class=\"ui-search-item__title ui-search-item__group__element\">Las Heras Y Pueyrredón 3 Ambientes</h2></div><div class=\"ui-search-item__group ui-search-item__group--location\"><span class=\"ui-search-item__group__element ui-search-item__location\">Las Heras 2300, Recoleta, Capital Federal</span></div></div></a>,\n",
              " <a class=\"ui-search-link\" href=\"https://departamento.mercadolibre.com.ar/MLA-1103831142-departamento-almagro-_JM#position=2&amp;search_layout=grid&amp;type=item&amp;tracking_id=9f3a4a04-8d86-4041-99ab-530f58bfd03c\" target=\"_blank\" title=\"Departamento en alquiler\"><div class=\"carousel-container arrow-visible\"><div class=\"slick-initialized slick-slider\"><div class=\"slick-list\" role=\"presentation\"><div class=\"slick-track\"><div class=\"slick-slide slick-active\" data-index=\"0\" style=\"outline:none\" tabindex=\"-1\"><img alt=\"Departamento en alquiler\" class=\"ui-search-result-image__element lazy-loadable\" data-src=\"https://http2.mlstatic.com/D_NQ_NP_962333-MLA47545766747_092021-W.webp\" height=\"223\" src=\"data:image/gif;base64,R0lGODlhAQABAIAAAAAAAP///yH5BAEAAAAALAAAAAABAAEAAAIBRAA7\" width=\"284\"/></div></div></div></div></div></a>,\n",
              " <a class=\"ui-search-result__content ui-search-link\" href=\"https://departamento.mercadolibre.com.ar/MLA-1103831142-departamento-almagro-_JM#position=2&amp;search_layout=grid&amp;type=item&amp;tracking_id=9f3a4a04-8d86-4041-99ab-530f58bfd03c\" target=\"_blank\" title=\"Departamento en alquiler\"><div class=\"ui-search-result__content-wrapper\"><div class=\"ui-search-item__group ui-search-item__group--price\"><div class=\"ui-search-price ui-search-price--size-medium ui-search-item__group__element\"><div class=\"ui-search-price__second-line\"><span class=\"price-tag ui-search-price__part\"><span class=\"price-tag-text-sr-only\">21000 pesos</span><span aria-hidden=\"true\" class=\"price-tag-amount\"><span class=\"price-tag-symbol\">$</span><span class=\"price-tag-fraction\">21.000</span></span></span></div></div></div><div class=\"ui-search-item__group ui-search-item__group--attributes\"><ul class=\"ui-search-card-attributes ui-search-item__group__element\"><li class=\"ui-search-card-attributes__attribute\">20 m² cubiertos</li><li class=\"ui-search-card-attributes__attribute\">1 amb.</li></ul></div><div class=\"ui-search-item__group ui-search-item__group--title\"><span class=\"ui-search-item__group__element ui-search-item__subtitle\">Departamento en alquiler</span><h2 class=\"ui-search-item__title ui-search-item__group__element\">Departamento - Almagro</h2></div><div class=\"ui-search-item__group ui-search-item__group--location\"><span class=\"ui-search-item__group__element ui-search-item__location\">Bogado Al 4500, Almagro, Capital Federal</span><p class=\"ui-search-official-store-label ui-search-item__group__element ui-search-color--GRAY\">Publicado por Goldstein Propiedades</p></div></div></a>,\n",
              " <a class=\"ui-search-link\" href=\"https://departamento.mercadolibre.com.ar/MLA-1103961108-departamento-palermo-_JM#position=3&amp;search_layout=grid&amp;type=item&amp;tracking_id=9f3a4a04-8d86-4041-99ab-530f58bfd03c\" target=\"_blank\" title=\"Departamento en alquiler\"><div class=\"carousel-container arrow-visible\"><div class=\"slick-initialized slick-slider\"><div class=\"slick-list\" role=\"presentation\"><div class=\"slick-track\"><div class=\"slick-slide slick-active\" data-index=\"0\" style=\"outline:none\" tabindex=\"-1\"><img alt=\"Departamento en alquiler\" class=\"ui-search-result-image__element lazy-loadable\" data-src=\"https://http2.mlstatic.com/D_NQ_NP_755026-MLA47556523050_092021-W.webp\" height=\"507\" src=\"data:image/gif;base64,R0lGODlhAQABAIAAAAAAAP///yH5BAEAAAAALAAAAAABAAEAAAIBRAA7\" width=\"284\"/></div></div></div></div></div></a>,\n",
              " <a class=\"ui-search-result__content ui-search-link\" href=\"https://departamento.mercadolibre.com.ar/MLA-1103961108-departamento-palermo-_JM#position=3&amp;search_layout=grid&amp;type=item&amp;tracking_id=9f3a4a04-8d86-4041-99ab-530f58bfd03c\" target=\"_blank\" title=\"Departamento en alquiler\"><div class=\"ui-search-result__content-wrapper\"><div class=\"ui-search-item__group ui-search-item__group--price\"><div class=\"ui-search-price ui-search-price--size-medium ui-search-item__group__element\"><div class=\"ui-search-price__second-line\"><span class=\"price-tag ui-search-price__part\"><span class=\"price-tag-text-sr-only\">35000 pesos</span><span aria-hidden=\"true\" class=\"price-tag-amount\"><span class=\"price-tag-symbol\">$</span><span class=\"price-tag-fraction\">35.000</span></span></span></div></div></div><div class=\"ui-search-item__group ui-search-item__group--attributes\"><ul class=\"ui-search-card-attributes ui-search-item__group__element\"><li class=\"ui-search-card-attributes__attribute\">34 m² cubiertos</li><li class=\"ui-search-card-attributes__attribute\">2 ambs.</li></ul></div><div class=\"ui-search-item__group ui-search-item__group--title\"><span class=\"ui-search-item__group__element ui-search-item__subtitle\">Departamento en alquiler</span><h2 class=\"ui-search-item__title ui-search-item__group__element\">Departamento - Palermo</h2></div><div class=\"ui-search-item__group ui-search-item__group--location\"><span class=\"ui-search-item__group__element ui-search-item__location\">Costa Rica Al 3900, Palermo, Capital Federal</span><p class=\"ui-search-official-store-label ui-search-item__group__element ui-search-color--GRAY\">Publicado por Goldstein Propiedades</p></div></div></a>,\n",
              " <a class=\"ui-search-link\" href=\"https://departamento.mercadolibre.com.ar/MLA-1103856709-departamento-semipiso-en-alquiler-ubicado-en-caballito-capital-federal-buenos-aires-_JM#position=4&amp;search_layout=grid&amp;type=item&amp;tracking_id=9f3a4a04-8d86-4041-99ab-530f58bfd03c\" target=\"_blank\" title=\"Departamento en alquiler\"><div class=\"carousel-container arrow-visible\"><div class=\"slick-initialized slick-slider\"><div class=\"slick-list\" role=\"presentation\"><div class=\"slick-track\"><div class=\"slick-slide slick-active\" data-index=\"0\" style=\"outline:none\" tabindex=\"-1\"><img alt=\"Departamento en alquiler\" class=\"ui-search-result-image__element lazy-loadable\" data-src=\"https://http2.mlstatic.com/D_NQ_NP_997507-MLA47555660453_092021-W.webp\" height=\"211\" src=\"data:image/gif;base64,R0lGODlhAQABAIAAAAAAAP///yH5BAEAAAAALAAAAAABAAEAAAIBRAA7\" width=\"284\"/></div></div></div></div></div></a>,\n",
              " <a class=\"ui-search-result__content ui-search-link\" href=\"https://departamento.mercadolibre.com.ar/MLA-1103856709-departamento-semipiso-en-alquiler-ubicado-en-caballito-capital-federal-buenos-aires-_JM#position=4&amp;search_layout=grid&amp;type=item&amp;tracking_id=9f3a4a04-8d86-4041-99ab-530f58bfd03c\" target=\"_blank\" title=\"Departamento en alquiler\"><div class=\"ui-search-result__content-wrapper\"><div class=\"ui-search-item__group ui-search-item__group--price\"><div class=\"ui-search-price ui-search-price--size-medium ui-search-item__group__element\"><div class=\"ui-search-price__second-line\"><span class=\"price-tag ui-search-price__part\"><span class=\"price-tag-text-sr-only\">78000 pesos</span><span aria-hidden=\"true\" class=\"price-tag-amount\"><span class=\"price-tag-symbol\">$</span><span class=\"price-tag-fraction\">78.000</span></span></span></div></div></div><div class=\"ui-search-item__group ui-search-item__group--attributes\"><ul class=\"ui-search-card-attributes ui-search-item__group__element\"><li class=\"ui-search-card-attributes__attribute\">66 m² cubiertos</li><li class=\"ui-search-card-attributes__attribute\">3 ambs.</li></ul></div><div class=\"ui-search-item__group ui-search-item__group--title\"><span class=\"ui-search-item__group__element ui-search-item__subtitle\">Departamento en alquiler</span><h2 class=\"ui-search-item__title ui-search-item__group__element\">Departamento Semipiso  En Alquiler Ubicado En Caballito, Capital Federal, Buenos Aires</h2></div><div class=\"ui-search-item__group ui-search-item__group--location\"><span class=\"ui-search-item__group__element ui-search-item__location\">Calasanz, San José De 600, Caballito, Capital Federal</span></div></div></a>,\n",
              " <a class=\"ui-search-link\" href=\"https://departamento.mercadolibre.com.ar/MLA-1104160893-dueno-directo-alquila-impecable-dpto-2-ambientes-_JM#position=5&amp;search_layout=grid&amp;type=item&amp;tracking_id=9f3a4a04-8d86-4041-99ab-530f58bfd03c\" target=\"_blank\" title=\"Departamento en alquiler\"><div class=\"carousel-container arrow-visible\"><div class=\"slick-initialized slick-slider\"><div class=\"slick-list\" role=\"presentation\"><div class=\"slick-track\"><div class=\"slick-slide slick-active\" data-index=\"0\" style=\"outline:none\" tabindex=\"-1\"><img alt=\"Departamento en alquiler\" class=\"ui-search-result-image__element lazy-loadable\" data-src=\"https://http2.mlstatic.com/D_NQ_NP_684335-MLA47584636888_092021-W.webp\" height=\"213\" src=\"data:image/gif;base64,R0lGODlhAQABAIAAAAAAAP///yH5BAEAAAAALAAAAAABAAEAAAIBRAA7\" width=\"284\"/></div></div></div></div></div></a>,\n",
              " <a class=\"ui-search-result__content ui-search-link\" href=\"https://departamento.mercadolibre.com.ar/MLA-1104160893-dueno-directo-alquila-impecable-dpto-2-ambientes-_JM#position=5&amp;search_layout=grid&amp;type=item&amp;tracking_id=9f3a4a04-8d86-4041-99ab-530f58bfd03c\" target=\"_blank\" title=\"Departamento en alquiler\"><div class=\"ui-search-result__content-wrapper\"><div class=\"ui-search-item__group ui-search-item__group--price\"><div class=\"ui-search-price ui-search-price--size-medium ui-search-item__group__element\"><div class=\"ui-search-price__second-line\"><span class=\"price-tag ui-search-price__part\"><span class=\"price-tag-text-sr-only\">32000 pesos</span><span aria-hidden=\"true\" class=\"price-tag-amount\"><span class=\"price-tag-symbol\">$</span><span class=\"price-tag-fraction\">32.000</span></span></span></div></div></div><div class=\"ui-search-item__group ui-search-item__group--attributes\"><ul class=\"ui-search-card-attributes ui-search-item__group__element\"><li class=\"ui-search-card-attributes__attribute\">40 m² cubiertos</li><li class=\"ui-search-card-attributes__attribute\">2 ambs.</li></ul></div><div class=\"ui-search-item__group ui-search-item__group--title\"><span class=\"ui-search-item__group__element ui-search-item__subtitle\">Departamento en alquiler</span><h2 class=\"ui-search-item__title ui-search-item__group__element\">Dueño Directo Alquila,  Impecable Dpto. 2 Ambientes</h2></div><div class=\"ui-search-item__group ui-search-item__group--location\"><span class=\"ui-search-item__group__element ui-search-item__location\">Paraguay 2086, Barrio Norte, Capital Federal</span></div></div></a>]"
            ]
          },
          "metadata": {},
          "execution_count": 79
        }
      ]
    },
    {
      "cell_type": "code",
      "metadata": {
        "colab": {
          "base_uri": "https://localhost:8080/"
        },
        "id": "ughOnxNAaXOW",
        "outputId": "17e7cf4b-13b9-4f2b-faf0-5d063b9cf5f0"
      },
      "source": [
        "urls = [ t['href'] for t in tag_deptos ]\n",
        "len(tag_deptos), len(set(tag_deptos)), len(urls), len(set(urls))"
      ],
      "execution_count": null,
      "outputs": [
        {
          "data": {
            "text/plain": [
              "(96, 96, 96, 48)"
            ]
          },
          "execution_count": 65,
          "metadata": {},
          "output_type": "execute_result"
        }
      ]
    },
    {
      "cell_type": "markdown",
      "metadata": {
        "id": "tkNJI3dLQf7X"
      },
      "source": [
        "#####Armo scraper que guarde los links de las publicaciones para un url_search dado"
      ]
    },
    {
      "cell_type": "code",
      "metadata": {
        "id": "R4H2Pphu4ocI"
      },
      "source": [
        "def get_links(url_search:list, category:str, N:int) -> list:\n",
        "  '''\n",
        "  Devuelve lista con los links a publicaciones de alquileres, dado:\n",
        "    url_search  string de búsqueda con el formato que especifica numero de página\n",
        "    category    puede ser 'Departamento', 'Casa', o 'Ph'\n",
        "    N           numero de páginas a recorrer\n",
        "  '''\n",
        "  urls = []\n",
        "\n",
        "  for n in range(N):\n",
        "    \n",
        "    url_request = url_search + str( n*48+1)\n",
        "    response = requests.get( url_request )\n",
        "    \n",
        "    print('Sacando links de página ', n, '\\tURL ', url_request)\n",
        "    \n",
        "    if response.status_code != 200:\n",
        "      print('Request malió sal.', '\\tStatus code', response.status_code)\n",
        "      continue\n",
        "\n",
        "    soup = bs( response.content )\n",
        "    tags = soup.find_all( name='a', attrs={'title': 'Departamento en alquiler', 'class':'ui-search-link'} )\n",
        "    urls += [ t['href'] for t in tags ]\n",
        "  urls = list(set(urls))\n",
        "  print(f'Se extrajeron {len(urls)} links')\n",
        "  return urls"
      ],
      "execution_count": null,
      "outputs": []
    },
    {
      "cell_type": "code",
      "metadata": {
        "colab": {
          "base_uri": "https://localhost:8080/"
        },
        "id": "ar4ExgMhNZ12",
        "outputId": "5a5d0990-ccf7-4d64-817b-119f06071828"
      },
      "source": [
        "url_deptos = get_links(url_search_deptos, 'Departamento', 5)"
      ],
      "execution_count": null,
      "outputs": [
        {
          "name": "stdout",
          "output_type": "stream",
          "text": [
            "Sacando links de página  0 \tURL  https://inmuebles.mercadolibre.com.ar/departamentos/alquiler/capital-federal/_Desde_1\n",
            "Sacando links de página  1 \tURL  https://inmuebles.mercadolibre.com.ar/departamentos/alquiler/capital-federal/_Desde_49\n",
            "Sacando links de página  2 \tURL  https://inmuebles.mercadolibre.com.ar/departamentos/alquiler/capital-federal/_Desde_97\n",
            "Sacando links de página  3 \tURL  https://inmuebles.mercadolibre.com.ar/departamentos/alquiler/capital-federal/_Desde_145\n",
            "Sacando links de página  4 \tURL  https://inmuebles.mercadolibre.com.ar/departamentos/alquiler/capital-federal/_Desde_193\n",
            "Se extrajeron 242 links\n"
          ]
        }
      ]
    },
    {
      "cell_type": "code",
      "metadata": {
        "colab": {
          "base_uri": "https://localhost:8080/"
        },
        "id": "pqoOKSDblKfQ",
        "outputId": "5735dcba-3d85-4fab-8ece-641e9c295c69"
      },
      "source": [
        "a = [45,123,745,12,12,1,53,73,2,352,2,2,51,3,123]\n",
        "list(set(a))"
      ],
      "execution_count": null,
      "outputs": [
        {
          "data": {
            "text/plain": [
              "[352, 1, 2, 3, 745, 73, 12, 45, 51, 53, 123]"
            ]
          },
          "execution_count": 305,
          "metadata": {},
          "output_type": "execute_result"
        }
      ]
    },
    {
      "cell_type": "code",
      "metadata": {
        "colab": {
          "base_uri": "https://localhost:8080/"
        },
        "id": "552lbl6GnpAc",
        "outputId": "eba02a63-cc9d-4f08-c530-b40c18d151d0"
      },
      "source": [
        "help(set)"
      ],
      "execution_count": null,
      "outputs": [
        {
          "name": "stdout",
          "output_type": "stream",
          "text": [
            "Help on class set in module builtins:\n",
            "\n",
            "class set(object)\n",
            " |  set() -> new empty set object\n",
            " |  set(iterable) -> new set object\n",
            " |  \n",
            " |  Build an unordered collection of unique elements.\n",
            " |  \n",
            " |  Methods defined here:\n",
            " |  \n",
            " |  __and__(self, value, /)\n",
            " |      Return self&value.\n",
            " |  \n",
            " |  __contains__(...)\n",
            " |      x.__contains__(y) <==> y in x.\n",
            " |  \n",
            " |  __eq__(self, value, /)\n",
            " |      Return self==value.\n",
            " |  \n",
            " |  __ge__(self, value, /)\n",
            " |      Return self>=value.\n",
            " |  \n",
            " |  __getattribute__(self, name, /)\n",
            " |      Return getattr(self, name).\n",
            " |  \n",
            " |  __gt__(self, value, /)\n",
            " |      Return self>value.\n",
            " |  \n",
            " |  __iand__(self, value, /)\n",
            " |      Return self&=value.\n",
            " |  \n",
            " |  __init__(self, /, *args, **kwargs)\n",
            " |      Initialize self.  See help(type(self)) for accurate signature.\n",
            " |  \n",
            " |  __ior__(self, value, /)\n",
            " |      Return self|=value.\n",
            " |  \n",
            " |  __isub__(self, value, /)\n",
            " |      Return self-=value.\n",
            " |  \n",
            " |  __iter__(self, /)\n",
            " |      Implement iter(self).\n",
            " |  \n",
            " |  __ixor__(self, value, /)\n",
            " |      Return self^=value.\n",
            " |  \n",
            " |  __le__(self, value, /)\n",
            " |      Return self<=value.\n",
            " |  \n",
            " |  __len__(self, /)\n",
            " |      Return len(self).\n",
            " |  \n",
            " |  __lt__(self, value, /)\n",
            " |      Return self<value.\n",
            " |  \n",
            " |  __ne__(self, value, /)\n",
            " |      Return self!=value.\n",
            " |  \n",
            " |  __or__(self, value, /)\n",
            " |      Return self|value.\n",
            " |  \n",
            " |  __rand__(self, value, /)\n",
            " |      Return value&self.\n",
            " |  \n",
            " |  __reduce__(...)\n",
            " |      Return state information for pickling.\n",
            " |  \n",
            " |  __repr__(self, /)\n",
            " |      Return repr(self).\n",
            " |  \n",
            " |  __ror__(self, value, /)\n",
            " |      Return value|self.\n",
            " |  \n",
            " |  __rsub__(self, value, /)\n",
            " |      Return value-self.\n",
            " |  \n",
            " |  __rxor__(self, value, /)\n",
            " |      Return value^self.\n",
            " |  \n",
            " |  __sizeof__(...)\n",
            " |      S.__sizeof__() -> size of S in memory, in bytes\n",
            " |  \n",
            " |  __sub__(self, value, /)\n",
            " |      Return self-value.\n",
            " |  \n",
            " |  __xor__(self, value, /)\n",
            " |      Return self^value.\n",
            " |  \n",
            " |  add(...)\n",
            " |      Add an element to a set.\n",
            " |      \n",
            " |      This has no effect if the element is already present.\n",
            " |  \n",
            " |  clear(...)\n",
            " |      Remove all elements from this set.\n",
            " |  \n",
            " |  copy(...)\n",
            " |      Return a shallow copy of a set.\n",
            " |  \n",
            " |  difference(...)\n",
            " |      Return the difference of two or more sets as a new set.\n",
            " |      \n",
            " |      (i.e. all elements that are in this set but not the others.)\n",
            " |  \n",
            " |  difference_update(...)\n",
            " |      Remove all elements of another set from this set.\n",
            " |  \n",
            " |  discard(...)\n",
            " |      Remove an element from a set if it is a member.\n",
            " |      \n",
            " |      If the element is not a member, do nothing.\n",
            " |  \n",
            " |  intersection(...)\n",
            " |      Return the intersection of two sets as a new set.\n",
            " |      \n",
            " |      (i.e. all elements that are in both sets.)\n",
            " |  \n",
            " |  intersection_update(...)\n",
            " |      Update a set with the intersection of itself and another.\n",
            " |  \n",
            " |  isdisjoint(...)\n",
            " |      Return True if two sets have a null intersection.\n",
            " |  \n",
            " |  issubset(...)\n",
            " |      Report whether another set contains this set.\n",
            " |  \n",
            " |  issuperset(...)\n",
            " |      Report whether this set contains another set.\n",
            " |  \n",
            " |  pop(...)\n",
            " |      Remove and return an arbitrary set element.\n",
            " |      Raises KeyError if the set is empty.\n",
            " |  \n",
            " |  remove(...)\n",
            " |      Remove an element from a set; it must be a member.\n",
            " |      \n",
            " |      If the element is not a member, raise a KeyError.\n",
            " |  \n",
            " |  symmetric_difference(...)\n",
            " |      Return the symmetric difference of two sets as a new set.\n",
            " |      \n",
            " |      (i.e. all elements that are in exactly one of the sets.)\n",
            " |  \n",
            " |  symmetric_difference_update(...)\n",
            " |      Update a set with the symmetric difference of itself and another.\n",
            " |  \n",
            " |  union(...)\n",
            " |      Return the union of sets as a new set.\n",
            " |      \n",
            " |      (i.e. all elements that are in either set.)\n",
            " |  \n",
            " |  update(...)\n",
            " |      Update a set with the union of itself and others.\n",
            " |  \n",
            " |  ----------------------------------------------------------------------\n",
            " |  Static methods defined here:\n",
            " |  \n",
            " |  __new__(*args, **kwargs) from builtins.type\n",
            " |      Create and return a new object.  See help(type) for accurate signature.\n",
            " |  \n",
            " |  ----------------------------------------------------------------------\n",
            " |  Data and other attributes defined here:\n",
            " |  \n",
            " |  __hash__ = None\n",
            "\n"
          ]
        }
      ]
    },
    {
      "cell_type": "code",
      "metadata": {
        "colab": {
          "base_uri": "https://localhost:8080/"
        },
        "id": "CFHyWINlakGw",
        "outputId": "36f67c0e-6fe5-4431-ea9e-736b5cfa6522"
      },
      "source": [
        "url_deptos[:5]"
      ],
      "execution_count": null,
      "outputs": [
        {
          "data": {
            "text/plain": [
              "['https://departamento.mercadolibre.com.ar/MLA-1102045080-departamento-almagro-_JM#position=9&search_layout=stack&type=item&tracking_id=9fc7daf8-b34b-4194-88a0-b3efc2c66a53',\n",
              " 'https://departamento.mercadolibre.com.ar/MLA-1100261146-departamento-palermo-_JM#position=48&search_layout=grid&type=item&tracking_id=cc5b249a-d0c6-4172-b9ae-a0e3ce0f740c',\n",
              " 'https://departamento.mercadolibre.com.ar/MLA-932689000-alquiler-dpto-2-ambientes-a-metros-plaza-almagro-_JM#position=43&search_layout=grid&type=item&tracking_id=f487ea98-7e2d-46f4-b0ef-c57109de86f9',\n",
              " 'https://departamento.mercadolibre.com.ar/MLA-1100777798-departamento-once-_JM#position=33&search_layout=grid&type=item&tracking_id=a746e2c6-e28c-434a-aeb9-8559569489f1',\n",
              " 'https://departamento.mercadolibre.com.ar/MLA-930583860-luminoso-dueno-todo-electricovalcon-_JM#position=43&search_layout=grid&type=item&tracking_id=cc5b249a-d0c6-4172-b9ae-a0e3ce0f740c']"
            ]
          },
          "execution_count": 303,
          "metadata": {},
          "output_type": "execute_result"
        }
      ]
    },
    {
      "cell_type": "code",
      "metadata": {
        "colab": {
          "base_uri": "https://localhost:8080/"
        },
        "id": "4KbkPnbwPvl7",
        "outputId": "5eb17250-4f3e-4f62-fb57-39c0048d921a"
      },
      "source": [
        "url_casas = get_links(url_search_casas, 'Casa', 10)"
      ],
      "execution_count": null,
      "outputs": [
        {
          "name": "stdout",
          "output_type": "stream",
          "text": [
            "Sacando links de página  0\n",
            "Sacando links de página  1\n",
            "Sacando links de página  2\n",
            "Sacando links de página  3\n",
            "Sacando links de página  4\n",
            "Sacando links de página  5\n",
            "Sacando links de página  6\n",
            "Sacando links de página  7\n",
            "Sacando links de página  8\n",
            "Sacando links de página  9\n",
            "Se extrajeron 195 links\n"
          ]
        }
      ]
    },
    {
      "cell_type": "code",
      "metadata": {
        "colab": {
          "base_uri": "https://localhost:8080/"
        },
        "id": "-JBYPpZaZP6Y",
        "outputId": "b1d4c7eb-cbfc-4881-e81a-21a9fdf854fa"
      },
      "source": [
        "url_casas[:5]"
      ],
      "execution_count": null,
      "outputs": [
        {
          "data": {
            "text/plain": [
              "['https://casa.mercadolibre.com.ar/MLA-931815128-casa-slote-propio-en-alquiler-comercial-caballito-norte-_JM#position=31&search_layout=grid&type=item&tracking_id=f7dfb0c4-9193-4c27-99e7-736d87a25231',\n",
              " 'https://casa.mercadolibre.com.ar/MLA-911133996-alquiler-de-casa-de-5-ambientes-con-garage-en-p-avellaneda-_JM#position=28&search_layout=stack&type=item&tracking_id=10299457-1d56-420d-ae05-fe84f2e34175',\n",
              " 'https://casa.mercadolibre.com.ar/MLA-899863547-casa-en-palermo-_JM#position=44&search_layout=stack&type=item&tracking_id=10299457-1d56-420d-ae05-fe84f2e34175',\n",
              " 'https://casa.mercadolibre.com.ar/MLA-1101262887-oppel-casa-en-alquiler-belgrano-capital-federal-cod-_JM#position=30&search_layout=grid&type=item&tracking_id=f7dfb0c4-9193-4c27-99e7-736d87a25231',\n",
              " 'https://casa.mercadolibre.com.ar/MLA-1101864339-casa-lde-nunez-_JM#position=42&search_layout=grid&type=item&tracking_id=587a709f-e8b4-4521-89b8-2d29750fa16e']"
            ]
          },
          "execution_count": 284,
          "metadata": {},
          "output_type": "execute_result"
        }
      ]
    },
    {
      "cell_type": "code",
      "metadata": {
        "colab": {
          "base_uri": "https://localhost:8080/"
        },
        "id": "LLNLWQzlQyMt",
        "outputId": "605eb891-26a5-412b-a573-3ab82fd708d3"
      },
      "source": [
        "url_phs = get_links(url_search_phs, 'Ph', 10)"
      ],
      "execution_count": null,
      "outputs": [
        {
          "name": "stdout",
          "output_type": "stream",
          "text": [
            "Sacando links de página  0\n",
            "Sacando links de página  1\n",
            "Sacando links de página  2\n",
            "Sacando links de página  3\n",
            "Sacando links de página  4\n",
            "Sacando links de página  5\n",
            "Sacando links de página  6\n",
            "Sacando links de página  7\n",
            "Sacando links de página  8\n",
            "Sacando links de página  9\n",
            "Se extrajeron 224 links\n"
          ]
        }
      ]
    },
    {
      "cell_type": "code",
      "metadata": {
        "colab": {
          "base_uri": "https://localhost:8080/"
        },
        "id": "DNCU4ISoWwkl",
        "outputId": "24eb000b-461d-46b1-f030-50e42d3221d6"
      },
      "source": [
        "url_phs[:5]"
      ],
      "execution_count": null,
      "outputs": [
        {
          "data": {
            "text/plain": [
              "['https://inmueble.mercadolibre.com.ar/MLA-1100460800-alquiler-ph-tipo-casa-10-ambientes-parquechacabuco-580m2-_JM#position=35&search_layout=stack&type=item&tracking_id=3b979732-4a9a-4e95-a99a-0744137e81a2',\n",
              " 'https://inmueble.mercadolibre.com.ar/MLA-930734454-tipo-casa-en-triplex-con-cpchera-trerraza-_JM#position=47&search_layout=stack&type=item&tracking_id=3b979732-4a9a-4e95-a99a-0744137e81a2',\n",
              " 'https://inmueble.mercadolibre.com.ar/MLA-935702890-lascano-al-4700-ph-1-amb-divisible-con-patio-_JM#position=37&search_layout=stack&type=item&tracking_id=72004a38-733a-4da2-9a60-4cf7eced9bbc',\n",
              " 'https://inmueble.mercadolibre.com.ar/MLA-927422371-ph-caballito-_JM#position=37&search_layout=stack&type=item&tracking_id=3b979732-4a9a-4e95-a99a-0744137e81a2',\n",
              " 'https://inmueble.mercadolibre.com.ar/MLA-1102825656-ph-palermo-_JM#position=23&search_layout=grid&type=item&tracking_id=fd80cf05-5fc9-418c-a28d-653fa424c251']"
            ]
          },
          "execution_count": 280,
          "metadata": {},
          "output_type": "execute_result"
        }
      ]
    },
    {
      "cell_type": "markdown",
      "metadata": {
        "id": "B8tRqMh8N0iC"
      },
      "source": [
        "\n",
        "#Levanto datos"
      ]
    },
    {
      "cell_type": "code",
      "metadata": {
        "id": "JDSoI6ttPuEZ"
      },
      "source": [
        ""
      ],
      "execution_count": null,
      "outputs": []
    }
  ]
}