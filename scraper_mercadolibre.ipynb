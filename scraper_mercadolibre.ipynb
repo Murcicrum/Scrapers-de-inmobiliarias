{
  "nbformat": 4,
  "nbformat_minor": 0,
  "metadata": {
    "colab": {
      "name": "scraper_mercadolibre.ipynb",
      "provenance": [],
      "collapsed_sections": [],
      "authorship_tag": "ABX9TyMj3MInz6sfqKebRhyofJTj",
      "include_colab_link": true
    },
    "kernelspec": {
      "display_name": "Python 3",
      "name": "python3"
    },
    "language_info": {
      "name": "python"
    }
  },
  "cells": [
    {
      "cell_type": "markdown",
      "metadata": {
        "id": "view-in-github",
        "colab_type": "text"
      },
      "source": [
        "<a href=\"https://colab.research.google.com/github/Murcicrum/Scrapers-de-inmobiliarias/blob/main/scraper_mercadolibre.ipynb\" target=\"_parent\"><img src=\"https://colab.research.google.com/assets/colab-badge.svg\" alt=\"Open In Colab\"/></a>"
      ]
    },
    {
      "cell_type": "markdown",
      "metadata": {
        "id": "2qy_iJjYNvem"
      },
      "source": [
        "# Imports"
      ]
    },
    {
      "cell_type": "code",
      "metadata": {
        "id": "CCrpNM7e4gcB"
      },
      "source": [
        "import requests\n",
        "from bs4 import BeautifulSoup as bs\n",
        "\n",
        "import time\n",
        "from numpy import random\n",
        "\n",
        "import pandas as pd\n",
        "\n",
        "import re, json\n",
        "import csv"
      ],
      "execution_count": null,
      "outputs": []
    },
    {
      "cell_type": "markdown",
      "metadata": {
        "id": "BNe27rIs4hBK"
      },
      "source": [
        "Función auxiliar que reintenta el request por si hay problemas de conexión a internet"
      ]
    },
    {
      "cell_type": "code",
      "metadata": {
        "id": "WHQYHHZ8Nmn9"
      },
      "source": [
        "def parse_url( url:str ):\n",
        "    '''\n",
        "    Dado un url devuelve objeto parseado de BeautifulSoup\n",
        "    '''\n",
        "    while True:\n",
        "        try:\n",
        "            response = requests.get( url )\n",
        "            break\n",
        "        except:\n",
        "            pass\n",
        "            #print('Conexión a publicación malió sal, reintentando....', url)\n",
        "    \n",
        "    if response.status_code != 200:\n",
        "      print('Request malió sal.', '\\tStatus code', response.status_code, url)\n",
        "      return None\n",
        "    \n",
        "    return bs( response.content )"
      ],
      "execution_count": null,
      "outputs": []
    },
    {
      "cell_type": "markdown",
      "metadata": {
        "id": "HzjVnLzVNw1b"
      },
      "source": [
        "#Levanto publicaciones"
      ]
    },
    {
      "cell_type": "markdown",
      "metadata": {
        "id": "dz_CUtYAQbXC"
      },
      "source": [
        "##### Defino los urls de las busquedas"
      ]
    },
    {
      "cell_type": "code",
      "metadata": {
        "id": "rWdBxtQYN2ms"
      },
      "source": [
        "URL_SEARCH_DEPTOS = 'https://inmuebles.mercadolibre.com.ar/departamentos/alquiler/capital-federal/_Desde_'\n",
        "URL_SEARCH_CASAS  = 'https://inmuebles.mercadolibre.com.ar/casas/alquiler/capital-federal/_Desde_'\n",
        "URL_SEARCH_PHS    = 'https://inmuebles.mercadolibre.com.ar/ph/alquiler/capital-federal/_Desde_'"
      ],
      "execution_count": null,
      "outputs": []
    },
    {
      "cell_type": "markdown",
      "metadata": {
        "id": "tkNJI3dLQf7X"
      },
      "source": [
        "##### Scraper que extrae los links a las publicaciones"
      ]
    },
    {
      "cell_type": "code",
      "metadata": {
        "id": "R4H2Pphu4ocI"
      },
      "source": [
        "def get_links(url_search:str, N:int=5) -> list:\n",
        "  '''\n",
        "  Devuelve lista con los links a publicaciones de alquileres, dado:\n",
        "    url_search  string de búsqueda con el formato que especifica numero de página\n",
        "    N           numero de páginas a recorrer.Si se llega al límite se detiene.\n",
        "  '''\n",
        "  urls = []\n",
        "\n",
        "  for n in range(N):\n",
        "    \n",
        "    url_request = url_search + str( n*48+1 )\n",
        "    \n",
        "    soup = parse_url( url_request )\n",
        "    if not soup:    continue\n",
        "    else:           print('Extrayendo links de página ',n)\n",
        "    \n",
        "    tags = soup.find_all( name='a', \n",
        "                          attrs={'class':'ui-search-result__content ui-search-link'} )\n",
        "    \n",
        "    urls += [ t['href'] for t in tags ]\n",
        "    \n",
        "    next_page_button = soup.find( name='li', attrs={'class':'andes-pagination__button--next'} )\n",
        "\n",
        "    if not next_page_button:\n",
        "        print('Se alcanzó la última página.')\n",
        "        break\n",
        "\n",
        "  \n",
        "  print(f'Se extrajeron {len(urls)} links')\n",
        "  return urls"
      ],
      "execution_count": null,
      "outputs": []
    },
    {
      "cell_type": "markdown",
      "metadata": {
        "id": "WIs2eYZeL9aX"
      },
      "source": [
        "Extraigo los links a las publicaciones \\\\\n"
      ]
    },
    {
      "cell_type": "code",
      "metadata": {
        "id": "9KcYOI2gLqdP",
        "colab": {
          "base_uri": "https://localhost:8080/"
        },
        "outputId": "bef38e16-3846-4b0d-aa68-7074890ba739"
      },
      "source": [
        "url_deptos = get_links(URL_SEARCH_DEPTOS,50)"
      ],
      "execution_count": null,
      "outputs": [
        {
          "output_type": "stream",
          "name": "stdout",
          "text": [
            "Extrayendo links de página  0\n",
            "Extrayendo links de página  1\n",
            "Extrayendo links de página  2\n",
            "Extrayendo links de página  3\n",
            "Extrayendo links de página  4\n",
            "Extrayendo links de página  5\n",
            "Extrayendo links de página  6\n",
            "Extrayendo links de página  7\n",
            "Extrayendo links de página  8\n",
            "Extrayendo links de página  9\n",
            "Extrayendo links de página  10\n",
            "Extrayendo links de página  11\n",
            "Extrayendo links de página  12\n",
            "Extrayendo links de página  13\n",
            "Extrayendo links de página  14\n",
            "Extrayendo links de página  15\n",
            "Extrayendo links de página  16\n",
            "Extrayendo links de página  17\n",
            "Extrayendo links de página  18\n",
            "Extrayendo links de página  19\n",
            "Extrayendo links de página  20\n",
            "Extrayendo links de página  21\n",
            "Extrayendo links de página  22\n",
            "Extrayendo links de página  23\n",
            "Extrayendo links de página  24\n",
            "Extrayendo links de página  25\n",
            "Extrayendo links de página  26\n",
            "Extrayendo links de página  27\n",
            "Extrayendo links de página  28\n",
            "Extrayendo links de página  29\n",
            "Extrayendo links de página  30\n",
            "Extrayendo links de página  31\n",
            "Extrayendo links de página  32\n",
            "Extrayendo links de página  33\n",
            "Extrayendo links de página  34\n",
            "Extrayendo links de página  35\n",
            "Extrayendo links de página  36\n",
            "Extrayendo links de página  37\n",
            "Extrayendo links de página  38\n",
            "Extrayendo links de página  39\n",
            "Extrayendo links de página  40\n",
            "Extrayendo links de página  41\n",
            "Se alcanzó la última página.\n",
            "Se extrajeron 2016 links\n"
          ]
        }
      ]
    },
    {
      "cell_type": "code",
      "metadata": {
        "id": "IjLbCA8wLyCj",
        "colab": {
          "base_uri": "https://localhost:8080/"
        },
        "outputId": "b5cf343b-36d4-4f18-e50f-06414b3f5e99"
      },
      "source": [
        "url_casas = get_links(URL_SEARCH_CASAS,10)"
      ],
      "execution_count": null,
      "outputs": [
        {
          "output_type": "stream",
          "name": "stdout",
          "text": [
            "Extrayendo links de página  0\n",
            "Extrayendo links de página  1\n",
            "Extrayendo links de página  2\n",
            "Extrayendo links de página  3\n",
            "Se alcanzó la última página.\n",
            "Se extrajeron 184 links\n"
          ]
        }
      ]
    },
    {
      "cell_type": "code",
      "metadata": {
        "id": "eGlHh6fpLy8k",
        "colab": {
          "base_uri": "https://localhost:8080/"
        },
        "outputId": "8509938f-6ec0-4d63-b0a1-0d4cb87c4a44"
      },
      "source": [
        "url_phs = get_links(URL_SEARCH_PHS,10)"
      ],
      "execution_count": null,
      "outputs": [
        {
          "output_type": "stream",
          "name": "stdout",
          "text": [
            "Extrayendo links de página  0\n",
            "Extrayendo links de página  1\n",
            "Extrayendo links de página  2\n",
            "Extrayendo links de página  3\n",
            "Extrayendo links de página  4\n",
            "Se alcanzó la última página.\n",
            "Se extrajeron 222 links\n"
          ]
        }
      ]
    },
    {
      "cell_type": "markdown",
      "metadata": {
        "id": "B8tRqMh8N0iC"
      },
      "source": [
        "\n",
        "#Levanto datos"
      ]
    },
    {
      "cell_type": "markdown",
      "metadata": {
        "id": "6Pv_C2kF27Oe"
      },
      "source": [
        "##### Funciones que se encargan de scrapear cada publicación"
      ]
    },
    {
      "cell_type": "code",
      "metadata": {
        "id": "JDSoI6ttPuEZ"
      },
      "source": [
        "def find_pub_date(url: str):\n",
        "    '''\n",
        "    Dado el URL de una publicación activa de MeLi, devuelve la fecha de publicación utilizando la API.\n",
        "    '''  \n",
        "    URL_API = 'https://api.mercadolibre.com/items/'\n",
        "    PATTERN = \"MLA-\\d+\"\n",
        "    pub_id = re.findall( re.compile( PATTERN ), url )[0]\n",
        "    pub_id = pub_id.replace('-','')\n",
        "      \n",
        "    while True:\n",
        "        try:\n",
        "            response = requests.get( URL_API + pub_id )\n",
        "            break\n",
        "        except Exception as e:\n",
        "            pass\n",
        "            #print('Conexión a API malió sal, reintentando...')\n",
        "    pub_json = response.json()\n",
        "      \n",
        "    return pub_json['start_time']\n",
        "\n",
        "\n",
        "def get_data(urls:list, filename:str='', n:int=30) -> list:\n",
        "    '''\n",
        "    Dada una lista de links con publicaciones de inmuebles de mercadolibre\n",
        "    Devuelve lista de diccionarion con datos del precio, superficie, ubicación...\n",
        "    '''\n",
        "    data_list = []\n",
        " \n",
        "    for i,url in enumerate(urls):\n",
        "        soup = parse_url( url )\n",
        "        if not soup:    continue\n",
        "\n",
        "        pub_finalizada = soup.find(name='div', attrs={'class':'ui-pdp-container__row ui-pdp-container__row--item-status-message'})\n",
        "        if pub_finalizada:  \n",
        "            print('Link',i, ' Publicación Finalizada', url)\n",
        "            continue\n",
        "        \n",
        "##### EMPIEZA LA EXTRACCIÓN DE DATOS #####\n",
        "        d_data = {}\n",
        "\n",
        "#### Estos los saco de scrapear el html de la publicación                \n",
        "### ALGUNOS DATOS\n",
        "        to_extract = {'sp_tot':     'Superficie total', \n",
        "                      'sp_cub':     'Superficie cubierta', \n",
        "                      'nu_ambs':    'Ambientes', \n",
        "                      'nu_dorms':   'Dormitorios', \n",
        "                      'pr_exp':     'Expensas'}\n",
        "        tags_table = soup.find_all(name='tr',attrs={'class':'andes-table__row'})\n",
        "        \n",
        "        for key, title in to_extract.items():\n",
        "            d_data[key] = None\n",
        "            for tag in tags_table:\n",
        "                text = tag.text\n",
        "                if text.startswith(title):\n",
        "                   value = text.replace(title,'').split()[0]\n",
        "                   value = value.split('.')[0]\n",
        "                   d_data[key] = int(value)\n",
        "\n",
        "### PRECIO\n",
        "        tag_price = soup.find(name='span', attrs={'class':'price-tag-fraction'})\n",
        "        d_data['pr_valor'] = int( tag_price.text.replace('.','') )\n",
        "\n",
        "        tag_currency = soup.find(name='span',attrs={'class':'price-tag-symbol'})\n",
        "        d_data['pr_moneda'] = tag_currency.text \n",
        "\n",
        "### UBICACION\n",
        "        tag_address = soup.find_all(name='p', \n",
        "                                    attrs={'class':'ui-pdp-color--BLACK ui-pdp-size--SMALL ui-pdp-family--REGULAR ui-pdp-media__title'})[-1]\n",
        "        d_data['ub_calle'] = tag_address.text.replace(', Capital Federal, Capital Federal', '')\n",
        "                               \n",
        "        tags_script = soup.find_all(name='script')\n",
        "        pattern = re.compile( '\"location\":\\{(.*?)\\}' )\n",
        "        locations = re.findall( pattern, tags_script[-1].text )\n",
        "        locations = json.loads( '{'+locations[0]+'}' )           \n",
        "        try:\n",
        "            d_data['ub_lat'] = locations['latitude']\n",
        "            d_data['ub_lon'] = locations['longitude']\n",
        "        except:\n",
        "            d_data['ub_lat'] = None\n",
        "            d_data['ub_lon'] = None\n",
        "        \n",
        "\n",
        "### FECHA PPUBLICACION\n",
        "#### Esto lo obtengo usando la API\n",
        "        d_data['fe_pub'] = find_pub_date( url )      \n",
        "\n",
        "### URL\n",
        "        d_data['url'] = url\n",
        "\n",
        "\n",
        "        data_list.append(d_data)        \n",
        "        \n",
        "##### GUARDADO DE DATOS #####\n",
        "        if filename and ( i%n==0 or i==len(urls)-1 ):\n",
        "            with open(filename, 'a') as f:\n",
        "                writer = csv.DictWriter(f, fieldnames=d_data.keys())\n",
        "                if i==0:\n",
        "                    print('Los datos se guardarán en', filename)\n",
        "                    writer.writeheader()\n",
        "                    writer.writerow( data_list[0] )\n",
        "                else:\n",
        "                    print(i, 'Guardando...')\n",
        "                    if i%n==0:\n",
        "                        for data in data_list[-n:]:\n",
        "                            writer.writerow(data)\n",
        "                    elif i==len(urls)-1:\n",
        "                        for data in data_list[-(i%n):]:\n",
        "                            writer.writerow(data)\n",
        "        \n",
        "    return data_list"
      ],
      "execution_count": null,
      "outputs": []
    },
    {
      "cell_type": "markdown",
      "metadata": {
        "id": "17tWIiyg6BQB"
      },
      "source": [
        "##### Monto el drive para guardar los datos"
      ]
    },
    {
      "cell_type": "code",
      "metadata": {
        "colab": {
          "base_uri": "https://localhost:8080/"
        },
        "id": "9VnPAJwk6GRn",
        "outputId": "179acd9b-7baa-4573-b98d-3ec79217d9dd"
      },
      "source": [
        "from google.colab import drive\n",
        "drive.mount('/content/drive/')\n",
        "\n",
        "PATH_DRIVE = 'drive/MyDrive/Colab Notebooks/Espacios públicos TDP/'\n",
        "\n",
        "n_guardar = 10"
      ],
      "execution_count": null,
      "outputs": [
        {
          "output_type": "stream",
          "name": "stdout",
          "text": [
            "Mounted at /content/drive/\n"
          ]
        }
      ]
    },
    {
      "cell_type": "markdown",
      "metadata": {
        "id": "SK7RUe384K7e"
      },
      "source": [
        "##### Extraigo los datos de las publicaciones\n"
      ]
    },
    {
      "cell_type": "markdown",
      "metadata": {
        "id": "zVQ1rt3WuiZn"
      },
      "source": [
        "Para deptos"
      ]
    },
    {
      "cell_type": "code",
      "metadata": {
        "colab": {
          "base_uri": "https://localhost:8080/"
        },
        "id": "TO7HD9-c4Zzd",
        "outputId": "fb5b977c-f929-46b3-838c-032fc48f5bdb"
      },
      "source": [
        "FILENAME_DEPTOS = PATH_DRIVE + 'meli_deptos.csv'\n",
        "\n",
        "data_deptos = get_data(url_deptos, FILENAME_DEPTOS, n_guardar)"
      ],
      "execution_count": null,
      "outputs": [
        {
          "output_type": "stream",
          "name": "stdout",
          "text": [
            "Los datos se guardarán en drive/MyDrive/Colab Notebooks/Espacios públicos TDP/meli_deptos.csv\n",
            "10 Guardando...\n",
            "20 Guardando...\n",
            "30 Guardando...\n",
            "40 Guardando...\n",
            "50 Guardando...\n",
            "60 Guardando...\n",
            "70 Guardando...\n",
            "80 Guardando...\n",
            "90 Guardando...\n",
            "100 Guardando...\n",
            "110 Guardando...\n",
            "120 Guardando...\n",
            "130 Guardando...\n",
            "140 Guardando...\n",
            "150 Guardando...\n",
            "160 Guardando...\n",
            "170 Guardando...\n",
            "No se encontró latitud-longitud en https://departamento.mercadolibre.com.ar/MLA-936014574-alq-semipiso-4-amb-ccochera-y-dep-a-estrenar-_JM#position=35&search_layout=grid&type=item&tracking_id=ff56edf4-f6dd-442a-b15d-2066def78dfd\n",
            "180 Guardando...\n",
            "190 Guardando...\n",
            "200 Guardando...\n",
            "210 Guardando...\n",
            "220 Guardando...\n",
            "230 Guardando...\n",
            "240 Guardando...\n",
            "250 Guardando...\n",
            "260 Guardando...\n",
            "270 Guardando...\n",
            "280 Guardando...\n",
            "290 Guardando...\n",
            "Link 297  Publicación Finalizada https://departamento.mercadolibre.com.ar/MLA-1107975602-espectacular-departamento-2-amb-al-frente-a-estrenar-_JM#position=10&search_layout=grid&type=item&tracking_id=054e7dd3-b5d8-4334-8a54-82201d5c4e50\n",
            "300 Guardando...\n",
            "310 Guardando...\n",
            "320 Guardando...\n",
            "Link 321  Publicación Finalizada https://departamento.mercadolibre.com.ar/MLA-1107859782-departamento-monoambiente-alquiler-2p-x-escalera-_JM#position=34&search_layout=grid&type=item&tracking_id=054e7dd3-b5d8-4334-8a54-82201d5c4e50\n",
            "330 Guardando...\n",
            "340 Guardando...\n",
            "350 Guardando...\n",
            "360 Guardando...\n",
            "370 Guardando...\n",
            "Link 378  Publicación Finalizada https://departamento.mercadolibre.com.ar/MLA-1108005186-espectacular-departamento-2-amb-al-frente-a-estrenar-_JM#position=43&search_layout=grid&type=item&tracking_id=8cddcd16-2fec-4214-9b64-60ee16b680d6\n",
            "380 Guardando...\n",
            "390 Guardando...\n",
            "400 Guardando...\n",
            "410 Guardando...\n",
            "420 Guardando...\n",
            "430 Guardando...\n",
            "440 Guardando...\n",
            "450 Guardando...\n",
            "460 Guardando...\n",
            "470 Guardando...\n",
            "Link 476  Publicación Finalizada https://departamento.mercadolibre.com.ar/MLA-1108573893-depto-de-2-ambientes-balcon-aterrazado-seguridad-y-amenities-palermo-hollywood-_JM#position=45&search_layout=grid&type=item&tracking_id=3e6c801a-c006-4df8-ac4b-e2ecaf8bdac7\n",
            "480 Guardando...\n",
            "490 Guardando...\n",
            "500 Guardando...\n",
            "510 Guardando...\n",
            "520 Guardando...\n",
            "530 Guardando...\n",
            "540 Guardando...\n",
            "550 Guardando...\n",
            "560 Guardando...\n",
            "570 Guardando...\n",
            "580 Guardando...\n",
            "590 Guardando...\n",
            "600 Guardando...\n",
            "610 Guardando...\n",
            "620 Guardando...\n",
            "630 Guardando...\n",
            "640 Guardando...\n",
            "650 Guardando...\n",
            "660 Guardando...\n",
            "670 Guardando...\n",
            "680 Guardando...\n",
            "Link 686  Publicación Finalizada https://departamento.mercadolibre.com.ar/MLA-1108643346-alquiler-monoambiente-con-balcon-y-amenities-_JM#position=15&search_layout=grid&type=item&tracking_id=cd3aebe7-4209-4ea2-9ad5-e0854998949f\n",
            "690 Guardando...\n",
            "700 Guardando...\n",
            "710 Guardando...\n",
            "720 Guardando...\n",
            "730 Guardando...\n",
            "740 Guardando...\n",
            "750 Guardando...\n",
            "760 Guardando...\n",
            "770 Guardando...\n",
            "780 Guardando...\n",
            "790 Guardando...\n",
            "800 Guardando...\n",
            "810 Guardando...\n",
            "820 Guardando...\n",
            "830 Guardando...\n",
            "840 Guardando...\n",
            "850 Guardando...\n",
            "Link 856  Publicación Finalizada https://departamento.mercadolibre.com.ar/MLA-1108708020-departamento-palermo-chico-_JM#position=41&search_layout=grid&type=item&tracking_id=71fdfb5d-38fc-4d12-a66b-95a4620699fb\n",
            "860 Guardando...\n",
            "Link 865  Publicación Finalizada https://departamento.mercadolibre.com.ar/MLA-1108708020-departamento-palermo-chico-_JM#position=2&search_layout=grid&type=item&tracking_id=5e1dd855-f80f-4f55-9b70-38e144e7ff90\n",
            "870 Guardando...\n",
            "880 Guardando...\n",
            "890 Guardando...\n",
            "900 Guardando...\n",
            "910 Guardando...\n",
            "920 Guardando...\n",
            "930 Guardando...\n",
            "940 Guardando...\n",
            "950 Guardando...\n",
            "960 Guardando...\n",
            "970 Guardando...\n",
            "980 Guardando...\n",
            "990 Guardando...\n",
            "1000 Guardando...\n",
            "1010 Guardando...\n",
            "1020 Guardando...\n",
            "1030 Guardando...\n",
            "1040 Guardando...\n",
            "1050 Guardando...\n",
            "1060 Guardando...\n",
            "1070 Guardando...\n",
            "1080 Guardando...\n",
            "1090 Guardando...\n",
            "1100 Guardando...\n",
            "1110 Guardando...\n",
            "1120 Guardando...\n",
            "1130 Guardando...\n",
            "1140 Guardando...\n",
            "1150 Guardando...\n",
            "1160 Guardando...\n",
            "Link 1170  Publicación Finalizada https://departamento.mercadolibre.com.ar/MLA-930364695-departamento-en-alquiler-caballito-2-amb-_JM#position=19&search_layout=grid&type=item&tracking_id=301ace45-0bb2-4060-99e6-7150a2b7ee09\n",
            "1180 Guardando...\n",
            "1190 Guardando...\n",
            "Link 1192  Publicación Finalizada https://departamento.mercadolibre.com.ar/MLA-935847968-departamento-3-amb-cbalcon-liniers-_JM#position=41&search_layout=grid&type=item&tracking_id=301ace45-0bb2-4060-99e6-7150a2b7ee09\n",
            "1200 Guardando...\n",
            "1210 Guardando...\n",
            "1220 Guardando...\n",
            "1230 Guardando...\n",
            "1240 Guardando...\n",
            "1250 Guardando...\n",
            "1260 Guardando...\n",
            "1270 Guardando...\n",
            "1280 Guardando...\n",
            "1290 Guardando...\n",
            "1300 Guardando...\n",
            "1310 Guardando...\n",
            "1320 Guardando...\n",
            "1330 Guardando...\n",
            "1340 Guardando...\n",
            "1350 Guardando...\n",
            "Link 1353  Publicación Finalizada https://departamento.mercadolibre.com.ar/MLA-1104136193-alquiler-monoambiente-con-patio-en-recoleta-aguero-y-melo-_JM#position=10&search_layout=grid&type=item&tracking_id=eb649915-b1dd-4903-acd9-26379ae4131b\n",
            "1360 Guardando...\n",
            "Link 1363  Publicación Finalizada https://departamento.mercadolibre.com.ar/MLA-921879758-cerrito-1500-departamento-de-3-ambientes-apto-profesional-_JM#position=20&search_layout=grid&type=item&tracking_id=eb649915-b1dd-4903-acd9-26379ae4131b\n",
            "1370 Guardando...\n",
            "1380 Guardando...\n",
            "No se encontró latitud-longitud en https://departamento.mercadolibre.com.ar/MLA-896082760-av-pedro-goyena-al-800-caballito-4-amb-cdep-serv-piso-categoria-coch-piscina-sum-_JM#position=41&search_layout=grid&type=item&tracking_id=eb649915-b1dd-4903-acd9-26379ae4131b\n",
            "1390 Guardando...\n",
            "No se encontró latitud-longitud en https://departamento.mercadolibre.com.ar/MLA-896082760-av-pedro-goyena-al-800-caballito-4-amb-cdep-serv-piso-categoria-coch-piscina-sum-_JM#position=1&search_layout=grid&type=item&tracking_id=78624e39-838f-43d1-82b1-c14b2e9a6f9c\n",
            "1400 Guardando...\n",
            "1410 Guardando...\n",
            "1420 Guardando...\n",
            "1430 Guardando...\n",
            "1440 Guardando...\n",
            "1450 Guardando...\n",
            "1460 Guardando...\n",
            "1470 Guardando...\n",
            "1480 Guardando...\n",
            "1490 Guardando...\n",
            "1500 Guardando...\n",
            "1510 Guardando...\n",
            "1520 Guardando...\n",
            "1530 Guardando...\n",
            "1540 Guardando...\n",
            "1550 Guardando...\n",
            "1560 Guardando...\n",
            "1570 Guardando...\n",
            "1580 Guardando...\n",
            "1590 Guardando...\n",
            "1600 Guardando...\n",
            "1610 Guardando...\n",
            "1620 Guardando...\n",
            "1630 Guardando...\n",
            "1640 Guardando...\n",
            "1650 Guardando...\n",
            "1660 Guardando...\n",
            "Link 1666  Publicación Finalizada https://departamento.mercadolibre.com.ar/MLA-1104823344-departamento-villa-urquiza-_JM#position=35&search_layout=grid&type=item&tracking_id=0fca027d-a6b0-4ca1-b4f8-84758874fbd4\n",
            "1670 Guardando...\n",
            "1680 Guardando...\n",
            "1690 Guardando...\n",
            "1700 Guardando...\n",
            "1710 Guardando...\n",
            "Link 1711  Publicación Finalizada https://departamento.mercadolibre.com.ar/MLA-930662819-monoambiente-en-excelente-ubicacion-_JM#position=32&search_layout=grid&type=item&tracking_id=85448772-bc2b-4dcb-b3aa-3135a8413907\n",
            "1720 Guardando...\n",
            "1730 Guardando...\n",
            "1740 Guardando...\n",
            "1750 Guardando...\n",
            "1760 Guardando...\n",
            "1770 Guardando...\n",
            "1780 Guardando...\n",
            "1790 Guardando...\n",
            "1800 Guardando...\n",
            "1810 Guardando...\n",
            "1820 Guardando...\n",
            "1830 Guardando...\n",
            "1840 Guardando...\n",
            "Link 1846  Publicación Finalizada https://departamento.mercadolibre.com.ar/MLA-1107789850-departamento-lde-nunez-_JM#position=23&search_layout=grid&type=item&tracking_id=3561a4b0-78c7-4d8b-94d0-9356c2b688e7\n",
            "1850 Guardando...\n",
            "1860 Guardando...\n",
            "1870 Guardando...\n",
            "1880 Guardando...\n",
            "1890 Guardando...\n",
            "1900 Guardando...\n",
            "1910 Guardando...\n",
            "1920 Guardando...\n",
            "1930 Guardando...\n",
            "1940 Guardando...\n",
            "1950 Guardando...\n",
            "1960 Guardando...\n",
            "1970 Guardando...\n",
            "1980 Guardando...\n",
            "1990 Guardando...\n",
            "2000 Guardando...\n",
            "Link 2008  Publicación Finalizada https://departamento.mercadolibre.com.ar/MLA-934643070-departamento-san-telmo-_JM#position=41&search_layout=grid&type=item&tracking_id=22d089a7-2a72-4ce1-ae0c-734cde4cff49\n",
            "2010 Guardando...\n",
            "2015 Guardando...\n"
          ]
        }
      ]
    },
    {
      "cell_type": "markdown",
      "metadata": {
        "id": "COqKv6nvulXO"
      },
      "source": [
        "Para casas\n",
        "\n"
      ]
    },
    {
      "cell_type": "code",
      "metadata": {
        "colab": {
          "base_uri": "https://localhost:8080/"
        },
        "id": "xsdkzor4-6ld",
        "outputId": "b663ab0d-3ff6-448f-e7de-88f6aa643fd9"
      },
      "source": [
        "FILENAME_CASAS  = PATH_DRIVE + 'meli_casas.csv'\n",
        "data_casas = get_data(url_casas, FILENAME_CASAS, n_guardar)"
      ],
      "execution_count": null,
      "outputs": [
        {
          "output_type": "stream",
          "name": "stdout",
          "text": [
            "Los datos se guardarán en drive/MyDrive/Colab Notebooks/Espacios públicos TDP/meli_casas.csv\n",
            "10 Guardando...\n",
            "20 Guardando...\n",
            "30 Guardando...\n",
            "40 Guardando...\n",
            "50 Guardando...\n",
            "60 Guardando...\n",
            "70 Guardando...\n",
            "80 Guardando...\n",
            "90 Guardando...\n",
            "100 Guardando...\n",
            "110 Guardando...\n",
            "120 Guardando...\n",
            "130 Guardando...\n",
            "140 Guardando...\n",
            "150 Guardando...\n",
            "160 Guardando...\n",
            "170 Guardando...\n",
            "180 Guardando...\n",
            "183 Guardando...\n"
          ]
        }
      ]
    },
    {
      "cell_type": "markdown",
      "metadata": {
        "id": "zp7x5Ve2uome"
      },
      "source": [
        "Para phs"
      ]
    },
    {
      "cell_type": "code",
      "metadata": {
        "colab": {
          "base_uri": "https://localhost:8080/"
        },
        "id": "OAqNuwFz-9lP",
        "outputId": "9ddd50bd-b418-458d-ee73-c7fb2a535d66"
      },
      "source": [
        "FILENAME_PHS = PATH_DRIVE + 'meli_phs.csv'\n",
        "data_phs = get_data(url_casas, FILENAME_PHS, n_guardar)"
      ],
      "execution_count": null,
      "outputs": [
        {
          "output_type": "stream",
          "name": "stdout",
          "text": [
            "Los datos se guardarán en drive/MyDrive/Colab Notebooks/Espacios públicos TDP/meli_phs.csv\n",
            "10 Guardando...\n",
            "20 Guardando...\n",
            "30 Guardando...\n",
            "40 Guardando...\n",
            "50 Guardando...\n",
            "60 Guardando...\n",
            "70 Guardando...\n",
            "80 Guardando...\n",
            "90 Guardando...\n",
            "100 Guardando...\n",
            "110 Guardando...\n",
            "120 Guardando...\n",
            "130 Guardando...\n",
            "140 Guardando...\n",
            "150 Guardando...\n",
            "160 Guardando...\n",
            "170 Guardando...\n",
            "180 Guardando...\n",
            "183 Guardando...\n"
          ]
        }
      ]
    },
    {
      "cell_type": "markdown",
      "metadata": {
        "id": "z60vUql8oQWb"
      },
      "source": [
        "#Merge de todos los datos"
      ]
    },
    {
      "cell_type": "code",
      "metadata": {
        "id": "oJ_Vhkjhoqew"
      },
      "source": [
        "df_deptos = pd.read_csv( filename_deptos)\n",
        "df_casas  = pd.read_csv( filename_casas )\n",
        "df_phs    = pd.read_csv( filename_phs   )"
      ],
      "execution_count": null,
      "outputs": []
    },
    {
      "cell_type": "code",
      "metadata": {
        "id": "fakMIXpMpO7w"
      },
      "source": [
        "df_deptos['inm_tipo']= 'depto'\n",
        "df_casas['inm_tipo'] = 'casa'\n",
        "df_phs['inm_tipo']   = 'ph'"
      ],
      "execution_count": null,
      "outputs": []
    },
    {
      "cell_type": "markdown",
      "metadata": {
        "id": "KR0fsEWfuFtp"
      },
      "source": [
        "Junto los tres"
      ]
    },
    {
      "cell_type": "code",
      "metadata": {
        "colab": {
          "base_uri": "https://localhost:8080/"
        },
        "id": "owlmebKjqc0-",
        "outputId": "beab9443-ac7e-4a8f-9990-d5e72587cf2c"
      },
      "source": [
        "df_merge = pd.concat([df_deptos,df_casas,df_phs])\n",
        "df_merge.shape"
      ],
      "execution_count": null,
      "outputs": [
        {
          "output_type": "execute_result",
          "data": {
            "text/plain": [
              "(2374, 13)"
            ]
          },
          "metadata": {},
          "execution_count": 80
        }
      ]
    },
    {
      "cell_type": "markdown",
      "metadata": {
        "id": "k20T_frQt-y0"
      },
      "source": [
        "Lo guardo en un csv"
      ]
    },
    {
      "cell_type": "code",
      "metadata": {
        "id": "SvPBiaGtrYbb"
      },
      "source": [
        "df_merge.to_csv( PATH_DRIVE + 'meli.csv' )"
      ],
      "execution_count": null,
      "outputs": []
    },
    {
      "cell_type": "code",
      "metadata": {
        "id": "_tvfT9MutlIW"
      },
      "source": [
        "#chequeo si los puedo leer\n",
        "dfdf = pd.read_csv(PATH_DRIVE+'meli.csv')\n",
        "dfdf.shape"
      ],
      "execution_count": null,
      "outputs": []
    }
  ]
}